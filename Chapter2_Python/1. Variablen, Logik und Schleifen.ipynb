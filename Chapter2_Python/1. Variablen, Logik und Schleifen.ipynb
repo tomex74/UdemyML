{
 "metadata": {
  "language_info": {
   "codemirror_mode": {
    "name": "ipython",
    "version": 3
   },
   "file_extension": ".py",
   "mimetype": "text/x-python",
   "name": "python",
   "nbconvert_exporter": "python",
   "pygments_lexer": "ipython3",
   "version": "3.8.5-final"
  },
  "orig_nbformat": 2,
  "kernelspec": {
   "name": "python3",
   "display_name": "Python 3",
   "language": "python"
  }
 },
 "nbformat": 4,
 "nbformat_minor": 2,
 "cells": [
  {
   "cell_type": "code",
   "execution_count": 5,
   "metadata": {},
   "outputs": [
    {
     "output_type": "stream",
     "name": "stdout",
     "text": [
      "Thomas\n1\n1.0\n<class 'int'>\n<class 'float'>\n<class 'bool'>\n"
     ]
    }
   ],
   "source": [
    "# Variablen und Datentypen\n",
    "\n",
    "name= \"Thomas\" #String\n",
    "print(name)\n",
    "\n",
    "# Ausgabe\n",
    "v1 = 1 #integer\n",
    "v2 = 1.0 #float\n",
    "v4= True # bool\n",
    "\n",
    "print(v1)\n",
    "print(v2)\n",
    "print(type(v1))\n",
    "print(type(v2))\n",
    "print(type(v4))\n",
    "\n"
   ]
  },
  {
   "cell_type": "code",
   "execution_count": 23,
   "metadata": {},
   "outputs": [],
   "source": [
    "# Logik\n",
    "zahl_input = int(input(\"Gebe eine Zahl von 1 - 10 ein!\"))"
   ]
  },
  {
   "cell_type": "code",
   "execution_count": 24,
   "metadata": {},
   "outputs": [
    {
     "output_type": "stream",
     "name": "stdout",
     "text": [
      "Almost\n"
     ]
    }
   ],
   "source": [
    "if zahl_input == 4:\n",
    "    print(\"Your winner!\")\n",
    "elif zahl_input == 5 or zahl_input == 3:\n",
    "    print(\"Almost\") \n",
    "else:\n",
    "    print(\"LOOSER\")"
   ]
  },
  {
   "cell_type": "code",
   "execution_count": 16,
   "metadata": {},
   "outputs": [
    {
     "output_type": "stream",
     "name": "stdout",
     "text": [
      "4\n"
     ]
    }
   ],
   "source": [
    "print(zahl_input)"
   ]
  },
  {
   "cell_type": "code",
   "execution_count": 29,
   "metadata": {},
   "outputs": [
    {
     "output_type": "stream",
     "name": "stdout",
     "text": [
      "Speildurchlauf Nr:  0\n",
      "LOOSER\n",
      "Speildurchlauf Nr:  1\n",
      "You're  winner!\n",
      "Speildurchlauf Nr:  2\n",
      "Almost\n"
     ]
    }
   ],
   "source": [
    "for run_index in range(0,3,1):\n",
    "    \n",
    "    print(\"Speildurchlauf Nr: \", run_index)\n",
    "    zahl_input = int(input(\"Gebe eine Zahl von 1 - 10 ein!\"))\n",
    "\n",
    "\n",
    "    if zahl_input == 4:\n",
    "        print(\"You're  winner!\")\n",
    "    elif zahl_input == 5 or zahl_input == 3:\n",
    "        print(\"Almost\") \n",
    "    else:\n",
    "        print(\"LOOSER\")\n",
    "\n"
   ]
  },
  {
   "cell_type": "code",
   "execution_count": 36,
   "metadata": {},
   "outputs": [
    {
     "output_type": "stream",
     "name": "stdout",
     "text": [
      "i=  5\ni=  15\ni=  25\n"
     ]
    }
   ],
   "source": [
    "    for i in range(5,30,10):\n",
    "        print(\"i= \", i)"
   ]
  },
  {
   "cell_type": "code",
   "execution_count": null,
   "metadata": {},
   "outputs": [],
   "source": [
    "\n"
   ]
  }
 ]
}