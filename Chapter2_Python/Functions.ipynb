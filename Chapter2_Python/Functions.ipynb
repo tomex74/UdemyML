{
 "cells": [
  {
   "cell_type": "code",
   "execution_count": 1,
   "metadata": {},
   "outputs": [],
   "source": [
    "# Funktionen\n",
    "def list_max(my_list):\n",
    "    temp = 0\n",
    "    \n",
    "    for i in range(len(my_list)):\n",
    "        if i == 0:\n",
    "            temp = my_list[i]\n",
    "        elif my_list[i] > temp:\n",
    "            print(\"Last max: \", temp)\n",
    "            print(\"New max: \", my_list[i])\n",
    "            temp = my_list[i]\n",
    "    \n",
    "    return temp"
   ]
  },
  {
   "cell_type": "code",
   "execution_count": 2,
   "metadata": {
    "scrolled": true
   },
   "outputs": [
    {
     "output_type": "stream",
     "name": "stdout",
     "text": [
      "Last max:  1\nNew max:  12\nLast max:  12\nNew max:  19\nLast max:  19\nNew max:  100\n"
     ]
    },
    {
     "output_type": "execute_result",
     "data": {
      "text/plain": [
       "100"
      ]
     },
     "metadata": {},
     "execution_count": 2
    }
   ],
   "source": [
    "liste_a = [1, 12, -5, -23, 19, 100] #100 hinzugefügt\n",
    "\n",
    "list_max(liste_a)"
   ]
  },
  {
   "cell_type": "code",
   "execution_count": 7,
   "metadata": {},
   "outputs": [],
   "source": [
    "# Klassen"
   ]
  }
 ],
 "metadata": {
  "kernelspec": {
   "display_name": "Python 3",
   "language": "python",
   "name": "python3"
  },
  "language_info": {
   "codemirror_mode": {
    "name": "ipython",
    "version": 3
   },
   "file_extension": ".py",
   "mimetype": "text/x-python",
   "name": "python",
   "nbconvert_exporter": "python",
   "pygments_lexer": "ipython3",
   "version": "3.8.5-final"
  }
 },
 "nbformat": 4,
 "nbformat_minor": 2
}